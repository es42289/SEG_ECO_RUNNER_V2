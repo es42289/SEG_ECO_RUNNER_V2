{
 "cells": [
  {
   "cell_type": "code",
   "execution_count": 5,
   "metadata": {},
   "outputs": [
    {
     "data": {
      "text/plain": [
       "[(0, 9),\n",
       " (1, 6),\n",
       " (2, 1),\n",
       " (3, 10),\n",
       " (4, 9),\n",
       " (5, 0),\n",
       " (6, 2),\n",
       " (7, 8),\n",
       " (8, 8),\n",
       " (9, 7)]"
      ]
     },
     "execution_count": 5,
     "metadata": {},
     "output_type": "execute_result"
    }
   ],
   "source": [
    "import random\n",
    "def generate_random_data(x_r, y_r):\n",
    "    return list(zip(range(x_r), [random.randint(0, y_r) for _ in range(x_r)]))\n",
    "\n",
    "generate_random_data(10,10)"
   ]
  },
  {
   "cell_type": "code",
   "execution_count": 6,
   "metadata": {},
   "outputs": [
    {
     "name": "stderr",
     "output_type": "stream",
     "text": [
      "2025-03-19 22:16:11.878 Thread 'MainThread': missing ScriptRunContext! This warning can be ignored when running in bare mode.\n",
      "2025-03-19 22:16:12.260 \n",
      "  \u001b[33m\u001b[1mWarning:\u001b[0m to view this Streamlit app on a browser, run it with the following\n",
      "  command:\n",
      "\n",
      "    streamlit run c:\\Users\\es422\\anaconda3\\envs\\streamlit\\Lib\\site-packages\\ipykernel_launcher.py [ARGUMENTS]\n",
      "2025-03-19 22:16:12.260 Thread 'MainThread': missing ScriptRunContext! This warning can be ignored when running in bare mode.\n"
     ]
    },
    {
     "data": {
      "text/plain": [
       "DeltaGenerator()"
      ]
     },
     "execution_count": 6,
     "metadata": {},
     "output_type": "execute_result"
    }
   ],
   "source": [
    "import streamlit as st\n",
    "import altair as alt\n",
    "import pandas as pd\n",
    "import numpy as np\n",
    "\n",
    "# Generate sample data\n",
    "x = np.linspace(0, 10, 100)\n",
    "y1 = np.sin(x)\n",
    "y2 = np.cos(x)\n",
    "data = pd.DataFrame({\n",
    "    \"x\": np.tile(x, 2),\n",
    "    \"y\": np.concatenate([y1, y2]),\n",
    "    \"function\": [\"Sine\"] * 100 + [\"Cosine\"] * 100  # Category for color\n",
    "})\n",
    "\n",
    "# Create Altair chart\n",
    "chart = alt.Chart(data).mark_line().encode(\n",
    "    x=\"x\",\n",
    "    y=\"y\",\n",
    "    color=alt.Color(\"function:N\", legend=alt.Legend(orient=\"top\"))\n",
    ")\n",
    "s\n",
    "# Add a text annotation in the top-right corner\n",
    "text = alt.Chart(pd.DataFrame({\"x\": [9], \"y\": [1.0], \"label\": [\"Top Right Text\"]})).mark_text(\n",
    "    align=\"right\",\n",
    "    baseline=\"top\",\n",
    "    dx=10,  # Offset from x position\n",
    "    dy=-10,  # Offset from y position\n",
    "    fontSize=14,\n",
    "    fontWeight=\"bold\",\n",
    "    color=\"black\"\n",
    ").encode(\n",
    "    x=\"x\",\n",
    "    y=\"y\",\n",
    "    text=\"label\"\n",
    ")\n",
    "\n",
    "# Combine chart and text\n",
    "final_chart = chart + text\n",
    "\n",
    "# Display in Streamlit\n",
    "st.altair_chart(final_chart, use_container_width=True)\n"
   ]
  },
  {
   "cell_type": "code",
   "execution_count": null,
   "metadata": {},
   "outputs": [],
   "source": []
  }
 ],
 "metadata": {
  "kernelspec": {
   "display_name": "streamlit",
   "language": "python",
   "name": "python3"
  },
  "language_info": {
   "codemirror_mode": {
    "name": "ipython",
    "version": 3
   },
   "file_extension": ".py",
   "mimetype": "text/x-python",
   "name": "python",
   "nbconvert_exporter": "python",
   "pygments_lexer": "ipython3",
   "version": "3.11.10"
  }
 },
 "nbformat": 4,
 "nbformat_minor": 2
}
