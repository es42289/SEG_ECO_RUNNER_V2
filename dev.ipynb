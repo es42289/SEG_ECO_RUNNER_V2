{
 "cells": [
  {
   "cell_type": "code",
   "execution_count": null,
   "metadata": {},
   "outputs": [],
   "source": [
    "import snowflake.connector\n",
    "import pandas as pd\n",
    "\n",
    "# Set up Snowflake connection\n",
    "conn = snowflake.connector.connect(\n",
    "    user=\"ELII\",\n",
    "    password=\"Elii123456789!\",\n",
    "    account=\"CMZNSCB-MU47932\",  # Example: \"yourcompany-region\"\n",
    "    warehouse=\"COMPUTE_WH\",\n",
    "    database=\"WELLS\",\n",
    "    schema=\"PUBLIC\"\n",
    ")\n"
   ]
  }
 ],
 "metadata": {
  "kernelspec": {
   "display_name": "base",
   "language": "python",
   "name": "python3"
  },
  "language_info": {
   "name": "python",
   "version": "3.10.9"
  }
 },
 "nbformat": 4,
 "nbformat_minor": 2
}
