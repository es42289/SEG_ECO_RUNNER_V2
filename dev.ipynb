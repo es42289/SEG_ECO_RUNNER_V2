{
 "cells": [
  {
   "cell_type": "code",
   "execution_count": 1,
   "metadata": {},
   "outputs": [],
   "source": [
    "import snowflake.connector\n",
    "import pandas as pd\n",
    "\n",
    "# Set up Snowflake connection\n",
    "conn = snowflake.connector.connect(\n",
    "    user=\"ELII\",\n",
    "    password=\"Elii123456789!\",\n",
    "    account=\"CMZNSCB-MU47932\",\n",
    "    warehouse=\"COMPUTE_WH\",\n",
    "    database=\"WELLS\",\n",
    "    schema=\"MINERALS\"\n",
    ")\n",
    "# query = \"SELECT * FROM DI_TX_MINERAL_APPRAISALS_2023 LIMIT 10\"\n",
    "# query = \"SELECT SUM(ARRAY_SIZE(SPLIT(API_10, ','))) AS total_well_ids FROM DI_TX_MINERAL_APPRAISALS_2023;\"\n",
    "# query = \"SELECT t.*, TRIM(f.value) AS API_10 FROM MINERALS.DI_TX_MINERAL_APPRAISALS_2023 t,LATERAL FLATTEN(input => SPLIT(t.API_10, ',')) f;\"\n",
    "\n",
    "# Create a cursor\n",
    "cur = conn.cursor()\n",
    "\n",
    "# SQL Query to create the exploded table in Snowflake\n",
    "create_table_query = \"\"\"\n",
    "CREATE TABLE MINERALS.DI_TX_MINERAL_APPRAISALS_2023_exploded AS\n",
    "SELECT \n",
    "    t.*, \n",
    "    TRIM(f.value) AS API_10_exploded\n",
    "FROM MINERALS.DI_TX_MINERAL_APPRAISALS_2023 t,\n",
    "LATERAL FLATTEN(input => SPLIT(t.API_10, ',')) f;\n",
    "\"\"\"\n",
    "\n",
    "# Execute query\n",
    "cur.execute(create_table_query)\n",
    "\n",
    "# Close connection\n",
    "cur.close()\n",
    "conn.close()"
   ]
  }
 ],
 "metadata": {
  "kernelspec": {
   "display_name": "Python 3",
   "language": "python",
   "name": "python3"
  },
  "language_info": {
   "codemirror_mode": {
    "name": "ipython",
    "version": 3
   },
   "file_extension": ".py",
   "mimetype": "text/x-python",
   "name": "python",
   "nbconvert_exporter": "python",
   "pygments_lexer": "ipython3",
   "version": "3.11.10"
  }
 },
 "nbformat": 4,
 "nbformat_minor": 2
}
